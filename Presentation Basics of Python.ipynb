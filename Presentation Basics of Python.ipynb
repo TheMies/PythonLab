{
 "cells": [
  {
   "cell_type": "markdown",
   "metadata": {},
   "source": [
    "## Start\n",
    "Good Python resources:\n",
    "- [www.w3schools.com](https://www.w3schools.com/python/default.asp)\n",
    "- [Official Python site](https://docs.python.org/3/)"
   ]
  },
  {
   "cell_type": "code",
   "execution_count": 245,
   "metadata": {},
   "outputs": [
    {
     "name": "stdout",
     "output_type": "stream",
     "text": [
      "Hello Python!\n"
     ]
    }
   ],
   "source": [
    "print(\"Hello Python!\")"
   ]
  },
  {
   "cell_type": "markdown",
   "metadata": {},
   "source": [
    "## What is Python?\n",
    "- Dynamic Programing Language (no need to compile for debugging)\n",
    "- Statement grouping via indentation\n",
    "- `Guido van Rossum` began working on Python in the late 1980s!\n",
    "- Python is easy to `learn`, `use` and to `read`!'\n",
    "- Has Multiple Libraries and Frameworks\n",
    "\n",
    "No `end of statements` and no `accolades`:\n",
    "C# example:\n",
    "```csharp\n",
    "public int AddBTimesValueA(int a, int b){\n",
    "    var result = 0;\n",
    "    for (int i; i<=b; i++){\n",
    "        result += a;\n",
    "    }\n",
    "    return result;\n",
    "}\n",
    "```\n",
    "\n",
    "Python example:\n",
    "```python\n",
    "def AddBTimesValueA(int a, int b):\n",
    "    result = 0\n",
    "    for i in range(b):\n",
    "        result = result + a\n",
    "    return result\n",
    "```\n"
   ]
  },
  {
   "cell_type": "markdown",
   "metadata": {},
   "source": [
    "## Variables\n",
    "- The name of a variable is a pointer to a location in the memory\n",
    "- A variable must be “defined” before it can be used in a given scope\n",
    "- The = sign is used to assign a value to a variable (`a = 42`)\n",
    "- The same variable can refer to different data types\n",
    "\n",
    "Variables:\n",
    "- can't start with a number (`1user`)\n",
    "- can't be a reserved keyword (`print`, `if`, `for`, `with`, ...)\n",
    "- are case sensitive (user <> User)"
   ]
  },
  {
   "cell_type": "code",
   "execution_count": 312,
   "metadata": {},
   "outputs": [
    {
     "name": "stdout",
     "output_type": "stream",
     "text": [
      "42\n",
      "text\n",
      "text\n"
     ]
    }
   ],
   "source": [
    "a = 42\n",
    "print(a)\n",
    "a = \"text\"\n",
    "print(a)\n",
    "A = True\n",
    "print(a)"
   ]
  },
  {
   "cell_type": "markdown",
   "metadata": {},
   "source": [
    "## Comments\n",
    "- Single line with `#`\n",
    "- Multi line with `'''`"
   ]
  },
  {
   "cell_type": "code",
   "execution_count": 246,
   "metadata": {},
   "outputs": [
    {
     "name": "stdout",
     "output_type": "stream",
     "text": [
      "This is not a comment\n",
      "This is not a comment\n"
     ]
    }
   ],
   "source": [
    "# This is a comment\n",
    "print(\"This is not a comment\")\n",
    "\n",
    "''' \n",
    "This is a\n",
    "multiline comment\n",
    "'''\n",
    "print(\"This is not a comment\")"
   ]
  },
  {
   "cell_type": "markdown",
   "metadata": {},
   "source": [
    "## DataTypes"
   ]
  },
  {
   "cell_type": "code",
   "execution_count": 247,
   "metadata": {},
   "outputs": [],
   "source": [
    "a = 1       # Integer\n",
    "b = 1.0     # float\n",
    "c = \"text\"  # text / string\n",
    "d = 'text'  # text / string\n",
    "e = True    # boolean: True or False\n",
    "f = None    # null / not assigned"
   ]
  },
  {
   "cell_type": "markdown",
   "metadata": {},
   "source": [
    "## Strings\n",
    "Strings are inmutable: can not be changed once set!"
   ]
  },
  {
   "cell_type": "code",
   "execution_count": 313,
   "metadata": {},
   "outputs": [
    {
     "name": "stdout",
     "output_type": "stream",
     "text": [
      "helloworld\n"
     ]
    }
   ],
   "source": [
    "s = \"hello\"\n",
    "s = s + \" \"\n",
    "s = s + \"world\"\n",
    "print(s)\n",
    "# three 'new' objects!"
   ]
  },
  {
   "cell_type": "code",
   "execution_count": 249,
   "metadata": {},
   "outputs": [
    {
     "name": "stdout",
     "output_type": "stream",
     "text": [
      "Hello Python\n"
     ]
    }
   ],
   "source": [
    "print(\"Hello\" + \" \" + \"Python\")"
   ]
  },
  {
   "cell_type": "code",
   "execution_count": 250,
   "metadata": {},
   "outputs": [
    {
     "name": "stdout",
     "output_type": "stream",
     "text": [
      "Hello world this is Python\n",
      "Hello world this is Python\n"
     ]
    }
   ],
   "source": [
    "world = 'world'\n",
    "python = 'Python'\n",
    "print(\"Hello \" + world + \" this is \" + python)"
   ]
  },
  {
   "cell_type": "code",
   "execution_count": null,
   "metadata": {},
   "outputs": [],
   "source": [
    "# More readable and faster (one string object!):\n",
    "print(f\"Hello {world} this is {python}\")"
   ]
  },
  {
   "cell_type": "markdown",
   "metadata": {},
   "source": [
    "## Boolean Operators"
   ]
  },
  {
   "cell_type": "code",
   "execution_count": 315,
   "metadata": {},
   "outputs": [
    {
     "name": "stdout",
     "output_type": "stream",
     "text": [
      "not a: False\n",
      "a and b: 20\n",
      "a or b: 10\n",
      "a == b: False\n",
      "a != b: True\n",
      "a < b: True\n",
      "a >= b: False\n"
     ]
    }
   ],
   "source": [
    "a = 10\n",
    "b = 20\n",
    "\n",
    "print(f'not a: {not a}')\n",
    "print(f'a and b: {a and b}')\n",
    "print(f'a or b: {a or b}')\n",
    "print(f'a == b: {a == b}')\n",
    "print(f'a != b: {a != b}')\n",
    "print(f'a < b: {a < b}')\n",
    "print(f'a >= b: {a >= b}')"
   ]
  },
  {
   "cell_type": "markdown",
   "metadata": {},
   "source": [
    "User in for example `if` statements: `if [condition] then ...`"
   ]
  },
  {
   "cell_type": "code",
   "execution_count": 316,
   "metadata": {},
   "outputs": [
    {
     "name": "stdout",
     "output_type": "stream",
     "text": [
      "a is smaller than b!\n"
     ]
    }
   ],
   "source": [
    "if a <= b:\n",
    "    print(\"a is smaller than b!\")"
   ]
  },
  {
   "cell_type": "markdown",
   "metadata": {},
   "source": [
    "## Collections\n",
    "### Array / List\n",
    "- Lists are used to **store multiple items** in a **single variable**.\n",
    "- List items are **ordered**, **changeable**, and **allow duplicate values**."
   ]
  },
  {
   "cell_type": "code",
   "execution_count": 252,
   "metadata": {},
   "outputs": [
    {
     "name": "stdout",
     "output_type": "stream",
     "text": [
      "[1, 2, 3, 5]\n",
      "Value of index 2: 3\n"
     ]
    }
   ],
   "source": [
    "list = [1,2,3,5]\n",
    "print(list)\n",
    "print(f\"Value of index 2: {list[2]}\")"
   ]
  },
  {
   "cell_type": "code",
   "execution_count": 318,
   "metadata": {},
   "outputs": [
    {
     "name": "stdout",
     "output_type": "stream",
     "text": [
      "['appel', 'peer', 'meloen', 'appel']\n"
     ]
    }
   ],
   "source": [
    "list = [\"appel\", \"peer\", \"meloen\", \"appel\"]\n",
    "print(list)"
   ]
  },
  {
   "cell_type": "code",
   "execution_count": 319,
   "metadata": {},
   "outputs": [
    {
     "name": "stdout",
     "output_type": "stream",
     "text": [
      "['appel', True, 10, 42.24]\n"
     ]
    }
   ],
   "source": [
    "list = [\"appel\", True, 10, 42.24]\n",
    "print(list)"
   ]
  },
  {
   "cell_type": "code",
   "execution_count": 320,
   "metadata": {},
   "outputs": [
    {
     "name": "stdout",
     "output_type": "stream",
     "text": [
      "['appel', 'peer', 'meloen', 'appel']\n"
     ]
    }
   ],
   "source": [
    "list = [\"appel\", \"peer\", \"meloen\", \"appel\"]\n",
    "print(list)"
   ]
  },
  {
   "cell_type": "code",
   "execution_count": 321,
   "metadata": {},
   "outputs": [
    {
     "name": "stdout",
     "output_type": "stream",
     "text": [
      "['appel', 'peer', 'meloen', 'appel', 'banaan']\n"
     ]
    }
   ],
   "source": [
    "list.append(\"banaan\")\n",
    "print(list)"
   ]
  },
  {
   "cell_type": "code",
   "execution_count": 322,
   "metadata": {},
   "outputs": [
    {
     "name": "stdout",
     "output_type": "stream",
     "text": [
      "['appel', 'meloen', 'appel', 'banaan']\n"
     ]
    }
   ],
   "source": [
    "list.remove(\"peer\")\n",
    "print(list)"
   ]
  },
  {
   "cell_type": "code",
   "execution_count": 323,
   "metadata": {},
   "outputs": [
    {
     "name": "stdout",
     "output_type": "stream",
     "text": [
      "4\n"
     ]
    }
   ],
   "source": [
    "print(len(list))"
   ]
  },
  {
   "cell_type": "markdown",
   "metadata": {},
   "source": [
    "### Tuple\n",
    "- Tuples are used to **store multiple items** in a **single variable**.\n",
    "- A tuple is a collection which is **ordered** and **unchangeable**."
   ]
  },
  {
   "cell_type": "code",
   "execution_count": 258,
   "metadata": {},
   "outputs": [
    {
     "name": "stdout",
     "output_type": "stream",
     "text": [
      "(1, 'een')\n"
     ]
    }
   ],
   "source": [
    "a = (1, \"een\")\n",
    "print(a)"
   ]
  },
  {
   "cell_type": "code",
   "execution_count": 259,
   "metadata": {},
   "outputs": [
    {
     "name": "stdout",
     "output_type": "stream",
     "text": [
      "('apple', 'peer', 'appel')\n",
      "peer\n"
     ]
    }
   ],
   "source": [
    "b = (\"apple\", \"peer\", \"appel\")\n",
    "print(b)\n",
    "print(b[1])"
   ]
  },
  {
   "cell_type": "code",
   "execution_count": 260,
   "metadata": {},
   "outputs": [],
   "source": [
    "# Error! Can not add or remove\n",
    "##b.append(\"test\")\n",
    "#b.remove(\"peer\")"
   ]
  },
  {
   "cell_type": "markdown",
   "metadata": {},
   "source": [
    "## Set\n",
    "- Sets are used to store **multiple items** in a **single variable**.\n",
    "- A set is a collection which is **unordered**, **unchangeable***, and **unindexed**.\n",
    "- Duplicated items are removed.\n",
    "\n",
    "*) **Note**: Set items are unchangeable, but you **can remove items and add new items**."
   ]
  },
  {
   "cell_type": "code",
   "execution_count": 261,
   "metadata": {},
   "outputs": [
    {
     "name": "stdout",
     "output_type": "stream",
     "text": [
      "{'peer', 'appel', 'banaan'}\n"
     ]
    }
   ],
   "source": [
    "set = {\"appel\", \"banaan\", \"peer\"}\n",
    "print(set)"
   ]
  },
  {
   "cell_type": "code",
   "execution_count": 262,
   "metadata": {},
   "outputs": [
    {
     "name": "stdout",
     "output_type": "stream",
     "text": [
      "{'peer', 'meloen', 'appel', 'banaan'}\n"
     ]
    }
   ],
   "source": [
    "set.add(\"meloen\")\n",
    "print(set)"
   ]
  },
  {
   "cell_type": "code",
   "execution_count": 263,
   "metadata": {},
   "outputs": [
    {
     "name": "stdout",
     "output_type": "stream",
     "text": [
      "{'peer', 'meloen', 'appel'}\n"
     ]
    }
   ],
   "source": [
    "set.remove(\"banaan\")\n",
    "print(set)"
   ]
  },
  {
   "cell_type": "code",
   "execution_count": 264,
   "metadata": {},
   "outputs": [],
   "source": [
    "# Error: van not index a set:\n",
    "#print(set[0])"
   ]
  },
  {
   "cell_type": "code",
   "execution_count": 265,
   "metadata": {},
   "outputs": [
    {
     "name": "stdout",
     "output_type": "stream",
     "text": [
      "{'peer', 'appel', 'banaan'}\n"
     ]
    }
   ],
   "source": [
    "set = {\"appel\", \"banaan\", \"peer\", \"appel\"}\n",
    "print(set)"
   ]
  },
  {
   "cell_type": "code",
   "execution_count": 266,
   "metadata": {},
   "outputs": [],
   "source": [
    "### Loop over a set"
   ]
  },
  {
   "cell_type": "code",
   "execution_count": 267,
   "metadata": {},
   "outputs": [
    {
     "name": "stdout",
     "output_type": "stream",
     "text": [
      "peer\n",
      "appel\n",
      "banaan\n"
     ]
    }
   ],
   "source": [
    "for x in set:\n",
    "  print(x)"
   ]
  },
  {
   "cell_type": "markdown",
   "metadata": {},
   "source": [
    "### Union / Update\n",
    "- `Union`: returns a new set\n",
    "- `Update`: updates the existing set"
   ]
  },
  {
   "cell_type": "code",
   "execution_count": 268,
   "metadata": {},
   "outputs": [
    {
     "name": "stdout",
     "output_type": "stream",
     "text": [
      "{'peer', 'noot', 'appel', 'aap', 'mies', 'banaan'}\n"
     ]
    }
   ],
   "source": [
    "set1 = {\"appel\", \"banaan\", \"peer\"}\n",
    "set2 = {\"aap\", \"noot\", \"mies\"}\n",
    "set3 = set1.union(set2)\n",
    "print(set3)"
   ]
  },
  {
   "cell_type": "code",
   "execution_count": 269,
   "metadata": {},
   "outputs": [
    {
     "name": "stdout",
     "output_type": "stream",
     "text": [
      "{'peer', 'noot', 'appel', 'aap', 'mies', 'banaan'}\n"
     ]
    }
   ],
   "source": [
    "set1 = {\"appel\", \"banaan\", \"peer\"}\n",
    "set2 = {\"aap\", \"noot\", \"mies\"}\n",
    "set1.update(set2)\n",
    "print(set1)"
   ]
  },
  {
   "cell_type": "markdown",
   "metadata": {},
   "source": [
    "## Dictionary\n",
    "- Dictionaries are used to store data values in **key:value** pairs.\n",
    "- A dictionary is a collection which is **ordered***, **changeable** and **do not allow duplicates**."
   ]
  },
  {
   "cell_type": "code",
   "execution_count": 270,
   "metadata": {},
   "outputs": [
    {
     "name": "stdout",
     "output_type": "stream",
     "text": [
      "{'one': 'Het getal 1', 'two': 'Het getal 2', 'three': 'En dit is getal 3'}\n",
      "En dit is getal 3\n"
     ]
    }
   ],
   "source": [
    "d = {\n",
    "    \"one\" : \"Het getal 1\",\n",
    "    \"two\" : \"Het getal 2\",\n",
    "    \"three\" : \"En dit is getal 3\",\n",
    "}\n",
    "print(d)\n",
    "print(d[\"three\"])"
   ]
  },
  {
   "cell_type": "code",
   "execution_count": 271,
   "metadata": {},
   "outputs": [
    {
     "name": "stdout",
     "output_type": "stream",
     "text": [
      "En dit is getal 3\n"
     ]
    }
   ],
   "source": [
    "print(d[\"three\"])"
   ]
  },
  {
   "cell_type": "code",
   "execution_count": 272,
   "metadata": {},
   "outputs": [
    {
     "name": "stdout",
     "output_type": "stream",
     "text": [
      "{'getal': 42, 'boolean': True, 'text': 'Een stuk tekst', 'list': [1, 2, 3, 4, 5], 'dictionary': {'one': 'Het getal 1', 'two': 'Het getal 2', 'three': 'En dit is getal 3'}}\n"
     ]
    }
   ],
   "source": [
    "d = {\n",
    "    \"getal\" : 42,\n",
    "    \"boolean\" : True,\n",
    "    \"text\" : \"Een stuk tekst\",\n",
    "    \"list\" : [1,2,3,4,5],\n",
    "    \"dictionary\":{\n",
    "       \"one\" : \"Het getal 1\",\n",
    "       \"two\" : \"Het getal 2\",\n",
    "       \"three\" : \"En dit is getal 3\",\n",
    "    }\n",
    "}\n",
    "print(d)"
   ]
  },
  {
   "cell_type": "code",
   "execution_count": 273,
   "metadata": {},
   "outputs": [
    {
     "name": "stdout",
     "output_type": "stream",
     "text": [
      "True\n"
     ]
    }
   ],
   "source": [
    "print(d[\"boolean\"])"
   ]
  },
  {
   "cell_type": "code",
   "execution_count": 274,
   "metadata": {},
   "outputs": [
    {
     "name": "stdout",
     "output_type": "stream",
     "text": [
      "{'one': 'Het getal 1', 'two': 'Het getal 2', 'three': 'En dit is getal 3'}\n"
     ]
    }
   ],
   "source": [
    "print(d[\"dictionary\"])"
   ]
  },
  {
   "cell_type": "code",
   "execution_count": 275,
   "metadata": {},
   "outputs": [
    {
     "name": "stdout",
     "output_type": "stream",
     "text": [
      "Het getal 2\n"
     ]
    }
   ],
   "source": [
    "print(d[\"dictionary\"][\"two\"])"
   ]
  },
  {
   "cell_type": "markdown",
   "metadata": {},
   "source": [
    "## if... then... else...\n",
    "```python\n",
    "if [conditie A waar]:\n",
    "    # Indien conditie A waar is, voer deze code uit\n",
    "elif [conditie B waar]:\n",
    "    # Indien conditie B waar is, voer deze code uit\n",
    "elif [conditie C waar]:\n",
    "    # Indien conditie C waar is, voer deze code uit\n",
    "else\n",
    "    # En anders voer deze code uit\n",
    "```"
   ]
  },
  {
   "cell_type": "markdown",
   "metadata": {},
   "source": [
    "Let op dat de `elif` en `else` niet meer worden uitgevoerd wanneer de eerste `if` waar is!"
   ]
  },
  {
   "cell_type": "code",
   "execution_count": 276,
   "metadata": {},
   "outputs": [
    {
     "name": "stdout",
     "output_type": "stream",
     "text": [
      "A is groter dan 10\n"
     ]
    }
   ],
   "source": [
    "a = 42\n",
    "\n",
    "if a > 10:\n",
    "    print(\"A is groter dan 10\")\n",
    "elif a > 20:\n",
    "    print(\"A is groter dan 20\")\n",
    "elif a > 30:\n",
    "    print(\"A is groter dan 20\")\n",
    "else:\n",
    "    print(\"A kleiner of gelijk aan 10\")"
   ]
  },
  {
   "cell_type": "markdown",
   "metadata": {},
   "source": [
    "## While\n",
    "```python\n",
    "while [conditie waar]:\n",
    "    # voer net zolang uit tot de conditie niet meer waar is...\n",
    "```"
   ]
  },
  {
   "cell_type": "code",
   "execution_count": 277,
   "metadata": {},
   "outputs": [
    {
     "name": "stdout",
     "output_type": "stream",
     "text": [
      "0\n",
      "1\n",
      "2\n",
      "3\n"
     ]
    }
   ],
   "source": [
    "a = 0\n",
    "while a < 4:\n",
    "    print(a)\n",
    "    a = a + 1"
   ]
  },
  {
   "cell_type": "markdown",
   "metadata": {},
   "source": [
    "## For statements\n",
    "### range()"
   ]
  },
  {
   "cell_type": "code",
   "execution_count": 278,
   "metadata": {},
   "outputs": [
    {
     "name": "stdout",
     "output_type": "stream",
     "text": [
      "0\n",
      "1\n",
      "2\n",
      "3\n"
     ]
    }
   ],
   "source": [
    "for i in range(4):\n",
    "    print(i)"
   ]
  },
  {
   "cell_type": "markdown",
   "metadata": {},
   "source": [
    "### len(...)"
   ]
  },
  {
   "cell_type": "code",
   "execution_count": 279,
   "metadata": {},
   "outputs": [
    {
     "name": "stdout",
     "output_type": "stream",
     "text": [
      "Index 0 heeft value p\n",
      "Index 1 heeft value y\n",
      "Index 2 heeft value t\n",
      "Index 3 heeft value h\n",
      "Index 4 heeft value o\n",
      "Index 5 heeft value n\n"
     ]
    }
   ],
   "source": [
    "a = [\"p\", \"y\", \"t\", \"h\", \"o\", \"n\"]\n",
    "aantalItems = len(a)\n",
    "for i in range(aantalItems):\n",
    "    print(f\"Index {i} heeft value {a[i]}\")"
   ]
  },
  {
   "cell_type": "markdown",
   "metadata": {},
   "source": [
    "### break"
   ]
  },
  {
   "cell_type": "code",
   "execution_count": 280,
   "metadata": {},
   "outputs": [
    {
     "name": "stdout",
     "output_type": "stream",
     "text": [
      "Index 0 heeft value p\n",
      "Index 1 heeft value y\n"
     ]
    }
   ],
   "source": [
    "for i in range(aantalItems):\n",
    "    if (a[i] == \"t\"):\n",
    "        break\n",
    "    print(f\"Index {i} heeft value {a[i]}\")"
   ]
  },
  {
   "cell_type": "markdown",
   "metadata": {},
   "source": [
    "### continue"
   ]
  },
  {
   "cell_type": "code",
   "execution_count": 281,
   "metadata": {},
   "outputs": [
    {
     "name": "stdout",
     "output_type": "stream",
     "text": [
      "Index 0 heeft value p\n",
      "Index 1 heeft value y\n",
      "Index 3 heeft value h\n",
      "Index 4 heeft value o\n",
      "Index 5 heeft value n\n"
     ]
    }
   ],
   "source": [
    "for i in range(aantalItems):\n",
    "    if (a[i] == \"t\"):\n",
    "        continue\n",
    "    print(f\"Index {i} heeft value {a[i]}\")"
   ]
  },
  {
   "cell_type": "markdown",
   "metadata": {},
   "source": [
    "### pass"
   ]
  },
  {
   "cell_type": "code",
   "execution_count": 282,
   "metadata": {},
   "outputs": [
    {
     "name": "stdout",
     "output_type": "stream",
     "text": [
      "Index 0 heeft value p\n",
      "Index 1 heeft value y\n",
      "Index 3 heeft value h\n",
      "Index 4 heeft value o\n",
      "Index 5 heeft value n\n"
     ]
    }
   ],
   "source": [
    "for i in range(aantalItems):\n",
    "    if (a[i] == \"t\"):\n",
    "        pass\n",
    "    else:\n",
    "        print(f\"Index {i} heeft value {a[i]}\")\n",
    "        "
   ]
  },
  {
   "cell_type": "markdown",
   "metadata": {},
   "source": [
    "## Enumerate\n",
    "The `enumerate(...)` function returns simultaneously a reference to the `index` of an item in a collection and a reference to its `value`."
   ]
  },
  {
   "cell_type": "code",
   "execution_count": 283,
   "metadata": {},
   "outputs": [
    {
     "name": "stdout",
     "output_type": "stream",
     "text": [
      "Item p at indes 0\n",
      "Item y at indes 1\n",
      "Item t at indes 2\n",
      "Item h at indes 3\n",
      "Item o at indes 4\n",
      "Item n at indes 5\n"
     ]
    }
   ],
   "source": [
    "a = [\"p\", \"y\", \"t\", \"h\", \"o\", \"n\"]\n",
    "i = 0\n",
    "for item in a:\n",
    "    print(f\"Item {item} at indes {i}\")\n",
    "    i = i + 1"
   ]
  },
  {
   "cell_type": "code",
   "execution_count": 284,
   "metadata": {},
   "outputs": [
    {
     "name": "stdout",
     "output_type": "stream",
     "text": [
      "Item p at indes 0\n",
      "Item y at indes 1\n",
      "Item t at indes 2\n",
      "Item h at indes 3\n",
      "Item o at indes 4\n",
      "Item n at indes 5\n"
     ]
    }
   ],
   "source": [
    "a = [\"p\", \"y\", \"t\", \"h\", \"o\", \"n\"]\n",
    "for i, item in enumerate(a):\n",
    "    print(f\"Item {item} at indes {i}\")\n",
    "    "
   ]
  },
  {
   "cell_type": "markdown",
   "metadata": {},
   "source": [
    "## Functions\n",
    "- Functions are a set of instruction that can be recalled in the body\n",
    "of the script as many times as needed\n",
    "- The scripts becomes easier to maintain\n",
    "- A function can recall itself in its definition (recursion)\n",
    "- Arguments are optional\n",
    "- Defining function parameters, calling function arguments\n",
    "- The return statement is optional"
   ]
  },
  {
   "cell_type": "code",
   "execution_count": 285,
   "metadata": {},
   "outputs": [
    {
     "name": "stdout",
     "output_type": "stream",
     "text": [
      "9\n"
     ]
    }
   ],
   "source": [
    "def add(a, b):\n",
    "    return (a+b)\n",
    "\n",
    "print(add(3,6))"
   ]
  },
  {
   "cell_type": "markdown",
   "metadata": {},
   "source": [
    "## Python Variable References\n",
    "\n",
    "In Python variables are simply names referring to objects in the memory."
   ]
  },
  {
   "cell_type": "code",
   "execution_count": 286,
   "metadata": {},
   "outputs": [
    {
     "name": "stdout",
     "output_type": "stream",
     "text": [
      "X =  [10]\n",
      "Y =  [10]\n"
     ]
    }
   ],
   "source": [
    "x = [ ]\n",
    "y = x\n",
    "y.append(10)\n",
    "print ('X = ' , x)\n",
    "print ('Y = ', y)"
   ]
  },
  {
   "cell_type": "markdown",
   "metadata": {},
   "source": [
    "### Inmutable\n",
    "- Numbers (Integer, Rational, Float, Decimal, Complex & Booleans)\n",
    "- Strings\n",
    "- Tuples\n",
    "- Frozen Sets"
   ]
  },
  {
   "cell_type": "code",
   "execution_count": 287,
   "metadata": {},
   "outputs": [
    {
     "name": "stdout",
     "output_type": "stream",
     "text": [
      "Een stuk tekst.\n",
      "Een stuk tekst.\n"
     ]
    }
   ],
   "source": [
    "def changeToIetsAnders(input):\n",
    "    input = \"Iets anders.\"\n",
    "\n",
    "text = \"Een stuk tekst.\"\n",
    "print(text)\n",
    "changeToIetsAnders(text)\n",
    "print(text)"
   ]
  },
  {
   "cell_type": "markdown",
   "metadata": {},
   "source": [
    "### Mutable\n",
    "- Lists\n",
    "- Sets\n",
    "- Dictionaries"
   ]
  },
  {
   "cell_type": "code",
   "execution_count": 288,
   "metadata": {},
   "outputs": [
    {
     "name": "stdout",
     "output_type": "stream",
     "text": [
      "['appel', 'banaan']\n",
      "['appel', 'banaan', 'peer']\n"
     ]
    }
   ],
   "source": [
    "def addSomethingToTheList(list):\n",
    "    list.append(\"peer\")\n",
    "\n",
    "a = [\"appel\", \"banaan\"]\n",
    "print(a)\n",
    "addSomethingToTheList(a)\n",
    "print(a)"
   ]
  },
  {
   "cell_type": "markdown",
   "metadata": {},
   "source": [
    "## Lambda functions\n",
    "- A lambda function is a small anonymous function.\n",
    "- A lambda function can take any number of arguments, but can only have one expression."
   ]
  },
  {
   "cell_type": "code",
   "execution_count": 289,
   "metadata": {},
   "outputs": [
    {
     "name": "stdout",
     "output_type": "stream",
     "text": [
      "15\n"
     ]
    }
   ],
   "source": [
    "def function(a):\n",
    "    return a + 10\n",
    "\n",
    "print(function(5))"
   ]
  },
  {
   "cell_type": "markdown",
   "metadata": {},
   "source": [
    "`x = lambda [PARAMETER] : [LOGIC]`\n",
    "\n",
    "A function without a name: an anonymous function."
   ]
  },
  {
   "cell_type": "code",
   "execution_count": 290,
   "metadata": {},
   "outputs": [
    {
     "name": "stdout",
     "output_type": "stream",
     "text": [
      "15\n"
     ]
    }
   ],
   "source": [
    "x = lambda a : a + 10\n",
    "print(x(5))"
   ]
  },
  {
   "cell_type": "code",
   "execution_count": 291,
   "metadata": {},
   "outputs": [
    {
     "name": "stdout",
     "output_type": "stream",
     "text": [
      "13\n"
     ]
    }
   ],
   "source": [
    "x = lambda a, b, c : a + b + c\n",
    "print(x(5, 6, 2))"
   ]
  },
  {
   "cell_type": "markdown",
   "metadata": {},
   "source": [
    "Why? Readability or to modify the logic inside a function.\n",
    "\n",
    "You can create a object / variable that is in essence a function!"
   ]
  },
  {
   "cell_type": "code",
   "execution_count": 292,
   "metadata": {},
   "outputs": [
    {
     "name": "stdout",
     "output_type": "stream",
     "text": [
      "22\n",
      "33\n"
     ]
    }
   ],
   "source": [
    "def myfunc(n):\n",
    "  return lambda a : a * n\n",
    "\n",
    "mydoubler = myfunc(2) # returns a function where value is always *2\n",
    "mytripler = myfunc(3) # returns a function where value is always *3\n",
    "\n",
    "print(mydoubler(11))\n",
    "print(mytripler(11))"
   ]
  },
  {
   "cell_type": "markdown",
   "metadata": {},
   "source": [
    "## Sorting\n",
    "`collection = sorted(collection, key = Function, reverse = True)`"
   ]
  },
  {
   "cell_type": "code",
   "execution_count": 293,
   "metadata": {},
   "outputs": [
    {
     "name": "stdout",
     "output_type": "stream",
     "text": [
      "['h', 'n', 'o', 'p', 't', 'y']\n"
     ]
    }
   ],
   "source": [
    "a = [\"p\", \"y\", \"t\", \"h\", \"o\", \"n\"]\n",
    "\n",
    "sortedList = sorted(a, key = lambda x : x) # return x (the value) as item to sort on\n",
    "print(sortedList)"
   ]
  },
  {
   "cell_type": "code",
   "execution_count": 294,
   "metadata": {},
   "outputs": [
    {
     "name": "stdout",
     "output_type": "stream",
     "text": [
      "[{'id': 1, 'name': 'Klaas'}, {'id': 4, 'name': 'Joop'}, {'id': 9, 'name': 'Ad'}]\n"
     ]
    }
   ],
   "source": [
    "users = [{\n",
    "        \"id\":4,\n",
    "        \"name\":\"Joop\",\n",
    "    },\n",
    "    {\n",
    "        \"id\":1,\n",
    "        \"name\":\"Klaas\",\n",
    "    },\n",
    "    {\n",
    "        \"id\":9,\n",
    "        \"name\":\"Ad\",\n",
    "    }]\n",
    "\n",
    "sortedUsers = sorted(users, key = lambda x : x[\"id\"]) # sort on the value of x[\"id\"]\n",
    "print(sortedUsers)"
   ]
  },
  {
   "cell_type": "code",
   "execution_count": 295,
   "metadata": {},
   "outputs": [
    {
     "name": "stdout",
     "output_type": "stream",
     "text": [
      "[{'id': 9, 'name': 'Ad'}, {'id': 4, 'name': 'Joop'}, {'id': 1, 'name': 'Klaas'}]\n"
     ]
    }
   ],
   "source": [
    "sortedList = sorted(users, key = lambda user : user[\"name\"]) # sort on the value of x[\"name\"]\n",
    "print(sortedList)"
   ]
  },
  {
   "cell_type": "code",
   "execution_count": 296,
   "metadata": {},
   "outputs": [
    {
     "name": "stdout",
     "output_type": "stream",
     "text": [
      "[{'id': 1, 'name': 'Klaas'}, {'id': 4, 'name': 'Joop'}, {'id': 9, 'name': 'Ad'}]\n"
     ]
    }
   ],
   "source": [
    "sortedList = sorted(users, key = lambda user : user[\"name\"], reverse=True) # sort reversed on the value of x[\"name\"]\n",
    "print(sortedList)"
   ]
  },
  {
   "cell_type": "markdown",
   "metadata": {},
   "source": [
    "## Comprehensions\n",
    "\n",
    "- Concise syntax to apply filters and functions on a collection of items\n",
    "- It can return:\n",
    "    - List []\n",
    "    - Tuple ()\n",
    "    - Dictionary {}\n",
    "- Very useful in Revit API filtering / sorting"
   ]
  },
  {
   "cell_type": "code",
   "execution_count": 297,
   "metadata": {},
   "outputs": [
    {
     "name": "stdout",
     "output_type": "stream",
     "text": [
      "['apple', 'banana', 'mango']\n"
     ]
    }
   ],
   "source": [
    "fruits = [\"apple\", \"banana\", \"cherry\", \"kiwi\", \"mango\"]\n",
    "newList = []\n",
    "\n",
    "# Only items containing an 'a'\n",
    "for x in fruits:\n",
    "  if \"a\" in x:\n",
    "    newList.append(x)\n",
    "\n",
    "print(newList)"
   ]
  },
  {
   "cell_type": "code",
   "execution_count": 298,
   "metadata": {},
   "outputs": [
    {
     "name": "stdout",
     "output_type": "stream",
     "text": [
      "['apple', 'banana', 'mango']\n"
     ]
    }
   ],
   "source": [
    "newList = [x for x in fruits if \"a\" in x]\n",
    "print(newList)"
   ]
  },
  {
   "cell_type": "markdown",
   "metadata": {},
   "source": [
    "`[x for x in fruits if \"a\" in x]` ==> `[return iteration condition]`\n",
    "Breakdown:\n",
    "- iteration: `for x in fruits`\n",
    "- condition: `if \"a\" in x`\n",
    "- return: `x`\n",
    "Don't forget the brackets `[` and `]`!"
   ]
  },
  {
   "cell_type": "code",
   "execution_count": 299,
   "metadata": {},
   "outputs": [
    {
     "name": "stdout",
     "output_type": "stream",
     "text": [
      "[8, 10, 12]\n"
     ]
    }
   ],
   "source": [
    "list = [0,1,2,3,4,5,6]\n",
    "x = [x * 2 for x in list if x > 3]\n",
    "print(x)"
   ]
  },
  {
   "cell_type": "markdown",
   "metadata": {},
   "source": [
    "## Object Oriented (the very basics)\n",
    "Based on `Classes` (also called `Types`) and `Objects` (also called `Instances`).\n",
    "- Encapsulation: access modifier (public, protected, private)\n",
    "- Inheritance: parent class and descendants, abstract classes\n",
    "- Polymorphism: code can be called on objects regardless they belong to parent or descendants classes\n",
    "- Open recursion: object methods can call other methods on the same object including themselves (self)\n",
    "\n",
    "Example of a class:\n",
    "`Person`\n",
    "- Property: `Title`\n",
    "- Property: `Name`\n",
    "- Function: `GetTitleAndName()`\n",
    "\n",
    "A Class can be seen as a Template or BluePrint."
   ]
  },
  {
   "cell_type": "code",
   "execution_count": 300,
   "metadata": {},
   "outputs": [
    {
     "name": "stdout",
     "output_type": "stream",
     "text": [
      "ing. Harry\n"
     ]
    }
   ],
   "source": [
    "class Person:\n",
    "    title = \"ing.\"\n",
    "    name = \"Harry\"\n",
    "\n",
    "    def GetTitleAndName(self): #note the self, referencing 'this' Person, so with title and name set to ing. Harry!\n",
    "        return f\"{self.title} {self.name}\"\n",
    "\n",
    "p = Person()\n",
    "print(p.GetTitleAndName())"
   ]
  },
  {
   "cell_type": "markdown",
   "metadata": {},
   "source": [
    "### Define a contructor\n",
    "To set initial values:\n",
    "```python\n",
    "def __init__(self, title, name):\n",
    "    _title = title\n",
    "    _name = name\n",
    "```\n",
    "\n",
    "the `__init__` is a special build in function that is always called when creating a new instance of a class.\n",
    "\n",
    "The double underscores (`__`) are also called `dunder`!"
   ]
  },
  {
   "cell_type": "code",
   "execution_count": 310,
   "metadata": {},
   "outputs": [
    {
     "name": "stdout",
     "output_type": "stream",
     "text": [
      "Eur.Erg. Piet\n",
      "ig. Marry\n",
      "ing. Bella\n"
     ]
    }
   ],
   "source": [
    "class Person:\n",
    "    _title = None\n",
    "    _name = None\n",
    "\n",
    "    def __init__(self, title, name):\n",
    "        self._title = title\n",
    "        self._name = name\n",
    "\n",
    "    def GetTitleAndName(self): #note the self, referencing 'this' Person, so with title and name set to ing. Harry!\n",
    "        return f\"{self._title} {self._name}\"\n",
    "\n",
    "p1 = Person(\"Eur.Erg.\", \"Piet\")\n",
    "p2 = Person(\"ir.\", \"Marry\")\n",
    "p3 = Person(\"ing.\", \"Bella\")\n",
    "print(p1.GetTitleAndName())\n",
    "print(p2.GetTitleAndName())\n",
    "print(p3.GetTitleAndName())"
   ]
  },
  {
   "cell_type": "markdown",
   "metadata": {},
   "source": [
    "There are many default (`dunder`) functions in Python that Classes / Objects have. You can list them with `dir([OBJECT])`."
   ]
  },
  {
   "cell_type": "markdown",
   "metadata": {},
   "source": []
  },
  {
   "cell_type": "code",
   "execution_count": 302,
   "metadata": {},
   "outputs": [
    {
     "data": {
      "text/plain": [
       "['GetTitleAndName',\n",
       " '__class__',\n",
       " '__delattr__',\n",
       " '__dict__',\n",
       " '__dir__',\n",
       " '__doc__',\n",
       " '__eq__',\n",
       " '__format__',\n",
       " '__ge__',\n",
       " '__getattribute__',\n",
       " '__gt__',\n",
       " '__hash__',\n",
       " '__init__',\n",
       " '__init_subclass__',\n",
       " '__le__',\n",
       " '__lt__',\n",
       " '__module__',\n",
       " '__ne__',\n",
       " '__new__',\n",
       " '__reduce__',\n",
       " '__reduce_ex__',\n",
       " '__repr__',\n",
       " '__setattr__',\n",
       " '__sizeof__',\n",
       " '__str__',\n",
       " '__subclasshook__',\n",
       " '__weakref__',\n",
       " '_name',\n",
       " '_title']"
      ]
     },
     "execution_count": 302,
     "metadata": {},
     "output_type": "execute_result"
    }
   ],
   "source": [
    "dir(p)"
   ]
  },
  {
   "cell_type": "code",
   "execution_count": 303,
   "metadata": {},
   "outputs": [
    {
     "name": "stdout",
     "output_type": "stream",
     "text": [
      "118685174277\n"
     ]
    }
   ],
   "source": [
    "# Get hash of Person\n",
    "print(p.__hash__())"
   ]
  },
  {
   "cell_type": "markdown",
   "metadata": {},
   "source": [
    "## Override functions\n",
    "`__str__` shows the object as a string."
   ]
  },
  {
   "cell_type": "code",
   "execution_count": 304,
   "metadata": {},
   "outputs": [
    {
     "name": "stdout",
     "output_type": "stream",
     "text": [
      "<__main__.Person object at 0x000001BA23379B70>\n"
     ]
    }
   ],
   "source": [
    "class Person:\n",
    "    _title = None\n",
    "    _name = None\n",
    "\n",
    "    def __init__(self, title, name):\n",
    "        self._title = title\n",
    "        self._name = name\n",
    "\n",
    "    def GetTitleAndName(self): #note the self, referencing 'this' Person, so with title and name set to ing. Harry!\n",
    "        return f\"{self._title} {self._name}\"\n",
    "\n",
    "p = Person(\"Eur.Erg.\", \"Piet\")\n",
    "print(p)"
   ]
  },
  {
   "cell_type": "code",
   "execution_count": 305,
   "metadata": {},
   "outputs": [
    {
     "name": "stdout",
     "output_type": "stream",
     "text": [
      "Piet has the title of 'Eur.Erg.'...\n"
     ]
    }
   ],
   "source": [
    "class Person:\n",
    "    _title = None\n",
    "    _name = None\n",
    "\n",
    "    def __init__(self, title, name):\n",
    "        self._title = title\n",
    "        self._name = name\n",
    "\n",
    "    def __str__(self):\n",
    "        return f\"{self._name} has the title of '{self._title}'...\"\n",
    "\n",
    "    def GetTitleAndName(self): #note the self, referencing 'this' Person, so with title and name set to ing. Harry!\n",
    "        return f\"{self._title} {self._name}\"\n",
    "\n",
    "p = Person(\"Eur.Erg.\", \"Piet\")\n",
    "print(p)"
   ]
  },
  {
   "cell_type": "code",
   "execution_count": 306,
   "metadata": {},
   "outputs": [
    {
     "data": {
      "text/plain": [
       "['__abs__',\n",
       " '__add__',\n",
       " '__and__',\n",
       " '__bool__',\n",
       " '__ceil__',\n",
       " '__class__',\n",
       " '__delattr__',\n",
       " '__dir__',\n",
       " '__divmod__',\n",
       " '__doc__',\n",
       " '__eq__',\n",
       " '__float__',\n",
       " '__floor__',\n",
       " '__floordiv__',\n",
       " '__format__',\n",
       " '__ge__',\n",
       " '__getattribute__',\n",
       " '__getnewargs__',\n",
       " '__gt__',\n",
       " '__hash__',\n",
       " '__index__',\n",
       " '__init__',\n",
       " '__init_subclass__',\n",
       " '__int__',\n",
       " '__invert__',\n",
       " '__le__',\n",
       " '__lshift__',\n",
       " '__lt__',\n",
       " '__mod__',\n",
       " '__mul__',\n",
       " '__ne__',\n",
       " '__neg__',\n",
       " '__new__',\n",
       " '__or__',\n",
       " '__pos__',\n",
       " '__pow__',\n",
       " '__radd__',\n",
       " '__rand__',\n",
       " '__rdivmod__',\n",
       " '__reduce__',\n",
       " '__reduce_ex__',\n",
       " '__repr__',\n",
       " '__rfloordiv__',\n",
       " '__rlshift__',\n",
       " '__rmod__',\n",
       " '__rmul__',\n",
       " '__ror__',\n",
       " '__round__',\n",
       " '__rpow__',\n",
       " '__rrshift__',\n",
       " '__rshift__',\n",
       " '__rsub__',\n",
       " '__rtruediv__',\n",
       " '__rxor__',\n",
       " '__setattr__',\n",
       " '__sizeof__',\n",
       " '__str__',\n",
       " '__sub__',\n",
       " '__subclasshook__',\n",
       " '__truediv__',\n",
       " '__trunc__',\n",
       " '__xor__',\n",
       " 'as_integer_ratio',\n",
       " 'bit_count',\n",
       " 'bit_length',\n",
       " 'conjugate',\n",
       " 'denominator',\n",
       " 'from_bytes',\n",
       " 'imag',\n",
       " 'numerator',\n",
       " 'real',\n",
       " 'to_bytes']"
      ]
     },
     "execution_count": 306,
     "metadata": {},
     "output_type": "execute_result"
    }
   ],
   "source": [
    "dir(int)"
   ]
  },
  {
   "cell_type": "code",
   "execution_count": 307,
   "metadata": {},
   "outputs": [
    {
     "name": "stdout",
     "output_type": "stream",
     "text": [
      "Help on wrapper_descriptor:\n",
      "\n",
      "__hash__(self, /)\n",
      "    Return hash(self).\n",
      "\n"
     ]
    }
   ],
   "source": [
    "help(int.__hash__)"
   ]
  },
  {
   "cell_type": "markdown",
   "metadata": {},
   "source": [
    "### Put help on your functions and classes\n",
    "\n",
    "Add documentation with ```TEXT``` (can be multilines)\n",
    "\n",
    "Use: help(...) to get help on a class or function."
   ]
  },
  {
   "cell_type": "code",
   "execution_count": 308,
   "metadata": {},
   "outputs": [
    {
     "name": "stdout",
     "output_type": "stream",
     "text": [
      "Help on function myFunction in module __main__:\n",
      "\n",
      "myFunction(a, b)\n",
      "    Adds a and b and returns the result\n",
      "\n"
     ]
    }
   ],
   "source": [
    "def myFunction(a,b):\n",
    "    '''Adds a and b and returns the result'''\n",
    "    return a+b\n",
    "\n",
    "# dir(myFunction) # --> returns __doc__\n",
    "help(myFunction)"
   ]
  },
  {
   "cell_type": "code",
   "execution_count": 309,
   "metadata": {},
   "outputs": [
    {
     "name": "stdout",
     "output_type": "stream",
     "text": [
      "Help on class student in module __main__:\n",
      "\n",
      "class student(builtins.object)\n",
      " |  Methods defined here:\n",
      " |  \n",
      " |  __init__(self)\n",
      " |      Initialize a student\n",
      " |  \n",
      " |  print_student(self)\n",
      " |      Returns the student description\n",
      " |      in a nice format.\n",
      " |  \n",
      " |  ----------------------------------------------------------------------\n",
      " |  Data descriptors defined here:\n",
      " |  \n",
      " |  __dict__\n",
      " |      dictionary for instance variables (if defined)\n",
      " |  \n",
      " |  __weakref__\n",
      " |      list of weak references to the object (if defined)\n",
      "\n"
     ]
    }
   ],
   "source": [
    "class student: \n",
    "    def __init__(self): \n",
    "        '''Initialize a student'''\n",
    "  \n",
    "    def print_student(self): \n",
    "        '''Returns the student description\n",
    "        in a nice format.'''\n",
    "        print('student description') \n",
    "\n",
    "help(student)\n",
    "#help(student.print_student)"
   ]
  }
 ],
 "metadata": {
  "kernelspec": {
   "display_name": "Python 3.10.8 64-bit (microsoft store)",
   "language": "python",
   "name": "python3"
  },
  "language_info": {
   "codemirror_mode": {
    "name": "ipython",
    "version": 3
   },
   "file_extension": ".py",
   "mimetype": "text/x-python",
   "name": "python",
   "nbconvert_exporter": "python",
   "pygments_lexer": "ipython3",
   "version": "3.10.8"
  },
  "orig_nbformat": 4,
  "vscode": {
   "interpreter": {
    "hash": "8e661300db26660e2a648a570ea76ce2f957d9a73783c3b8d0250fb42b276449"
   }
  }
 },
 "nbformat": 4,
 "nbformat_minor": 2
}

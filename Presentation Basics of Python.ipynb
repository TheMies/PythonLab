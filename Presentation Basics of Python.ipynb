{
 "cells": [
  {
   "cell_type": "markdown",
   "metadata": {},
   "source": [
    "## Start\n",
    "Good Python resources:\n",
    "- [www.w3schools.com](https://www.w3schools.com/python/default.asp)\n",
    "- [Official Python site](https://docs.python.org/3/)"
   ]
  },
  {
   "cell_type": "code",
   "execution_count": 1,
   "metadata": {},
   "outputs": [
    {
     "name": "stdout",
     "output_type": "stream",
     "text": [
      "Hello Python!\n"
     ]
    }
   ],
   "source": [
    "print(\"Hello Python!\")"
   ]
  },
  {
   "cell_type": "markdown",
   "metadata": {},
   "source": [
    "## What is Python?\n",
    "- Python is an `interpreted`, `object-oriented`, `high-level` programming language\n",
    "    - `interpreted`: hoeft niet te worden gecompileerd. Een andere 'programma' vertaalt direct jouw code.\n",
    "    - `compiled`: code wordt eerst 'vertaald' naar low-level code.\n",
    "- Statement grouping via indentation\n",
    "- `Guido van Rossum` began working on Python in the late 1980s!\n",
    "- Python is easy to `learn`, `use` and to `read`!'\n",
    "- Has Multiple Libraries and Frameworks\n",
    "\n",
    "---\n",
    "\n",
    "No `end of statements` and no `accolades`:\n",
    "\n",
    "C# example:\n",
    "- codebocks with `{` and `}`\n",
    "- end statements is and `;`\n",
    "\n",
    "```csharp\n",
    "public int AddBTimesValueA(int a, int b){\n",
    "    var result = 0;\n",
    "    for (int i; i<=b; i++){\n",
    "        result += a;\n",
    "    }\n",
    "    return result;\n",
    "}\n",
    "```\n",
    "\n",
    "---\n",
    "\n",
    "Python example: \n",
    "- codebocks with tabs/spaces. A `:` marks the next code block to be indented.\n",
    "- no end statements\n",
    "\n",
    "```python\n",
    "def AddBTimesValueA(int a, int b):\n",
    "    result = 0\n",
    "    for i in range(b):\n",
    "        result = result + a\n",
    "    return result\n",
    "```\n"
   ]
  },
  {
   "cell_type": "markdown",
   "metadata": {},
   "source": [
    "## Variables\n",
    "- The name of a variable is a pointer to a location in the memory\n",
    "- A variable must be “defined” before it can be used in a given scope\n",
    "- The = sign is used to assign a value to a variable (`a = 42`)\n",
    "- The same variable can refer to different data types\n",
    "\n",
    "Variables:\n",
    "- can't start with a number (`1user`)\n",
    "- can't be a reserved keyword (`print`, `if`, `for`, `with`, ...)\n",
    "- are case sensitive (`user` is not the same as `User`)"
   ]
  },
  {
   "cell_type": "code",
   "execution_count": null,
   "metadata": {},
   "outputs": [],
   "source": [
    "a = 42\n",
    "print(a)\n",
    "a = \"text\"\n",
    "print(a)\n",
    "A = True\n",
    "print(a)"
   ]
  },
  {
   "cell_type": "markdown",
   "metadata": {},
   "source": [
    "## Comments\n",
    "- Single line with `#`\n",
    "- Multi line with `'''`"
   ]
  },
  {
   "cell_type": "code",
   "execution_count": null,
   "metadata": {},
   "outputs": [],
   "source": [
    "# This is a comment\n",
    "print(\"This is not a comment\")\n",
    "\n",
    "''' \n",
    "This is a\n",
    "multiline comment\n",
    "'''\n",
    "print(\"This is not a comment\")"
   ]
  },
  {
   "cell_type": "markdown",
   "metadata": {},
   "source": [
    "## DataTypes"
   ]
  },
  {
   "cell_type": "code",
   "execution_count": null,
   "metadata": {},
   "outputs": [],
   "source": [
    "a = 1       # Integer\n",
    "b = 1.0     # float\n",
    "c = \"text\"  # text / string\n",
    "d = 'text'  # text / string\n",
    "e = True    # boolean: True or False\n",
    "f = None    # null / not assigned"
   ]
  },
  {
   "cell_type": "markdown",
   "metadata": {},
   "source": [
    "## Intergers and Floats"
   ]
  },
  {
   "cell_type": "code",
   "execution_count": null,
   "metadata": {},
   "outputs": [],
   "source": [
    "a = 1\n",
    "b = 2\n",
    "c = a + b\n",
    "print(c)\n",
    "print(type(c))"
   ]
  },
  {
   "cell_type": "code",
   "execution_count": null,
   "metadata": {},
   "outputs": [],
   "source": [
    "a = 1\n",
    "b = 2.0\n",
    "c = a + b\n",
    "print(c)\n",
    "print(type(c))"
   ]
  },
  {
   "cell_type": "markdown",
   "metadata": {},
   "source": [
    "## Strings\n",
    "\n",
    "- use double quotes or single quotes\n",
    "  `s = \"hello\"` vs `s = 'hello'`\n",
    "- for readability: define one style and use that style (don't mix)\n",
    "- multiline strings uses three double quotes `\"\"\"` (at begin and end)\n",
    "- Strings are inmutable: can not be changed once set!"
   ]
  },
  {
   "cell_type": "code",
   "execution_count": null,
   "metadata": {},
   "outputs": [],
   "source": [
    "s = \"hello\"\n",
    "s = s + \" \"\n",
    "s = s + \"world\"\n",
    "print(s)\n",
    "# three 'new' objects!"
   ]
  },
  {
   "cell_type": "code",
   "execution_count": null,
   "metadata": {},
   "outputs": [],
   "source": [
    "s = \"hello world\"\n",
    "s = s.replace(\"world\", \"Python\") # s = a new object / string!\n",
    "print(s)"
   ]
  },
  {
   "cell_type": "code",
   "execution_count": null,
   "metadata": {},
   "outputs": [],
   "source": [
    "print(\"Hello\" + \" \" + \"Python\")"
   ]
  },
  {
   "cell_type": "code",
   "execution_count": null,
   "metadata": {},
   "outputs": [],
   "source": [
    "world = 'world'\n",
    "python = 'Python'\n",
    "print(\"Hello \" + world + \" this is \" + python)"
   ]
  },
  {
   "cell_type": "code",
   "execution_count": null,
   "metadata": {},
   "outputs": [],
   "source": [
    "# More readable and faster (one string object!):\n",
    "print(f\"Hello {world} this is {python}\")"
   ]
  },
  {
   "cell_type": "code",
   "execution_count": null,
   "metadata": {},
   "outputs": [],
   "source": [
    "s = \"\"\"some long\n",
    "piece of text\n",
    "with multilines\"\"\"\n",
    "\n",
    "print(s)"
   ]
  },
  {
   "cell_type": "markdown",
   "metadata": {},
   "source": [
    "# Boolean\n",
    "- `True` or `False`\n",
    "- Note: `0` also means `False` and all other values are `True`"
   ]
  },
  {
   "cell_type": "code",
   "execution_count": null,
   "metadata": {},
   "outputs": [],
   "source": [
    "a = 1\n",
    "if a:\n",
    "    print(\"True\")\n",
    "else:\n",
    "    print(\"False\")"
   ]
  },
  {
   "cell_type": "markdown",
   "metadata": {},
   "source": [
    "## Boolean Operators"
   ]
  },
  {
   "cell_type": "markdown",
   "metadata": {},
   "source": [
    "- Check condition is True or False\n",
    "\n",
    "| Operator | Example | Meaning                                   |\n",
    "|----------|---------|-------------------------------------------|\n",
    "| not      | not a   | Negates a                                 |\n",
    "| and      | a and b | True when BOTH arguments are True         |\n",
    "| or       | a or b  | True when ONE argument is True            |\n",
    "| ==       | a == b  | True when a and b are the same            |\n",
    "| !=       | a != b  | True when a is not the same as b          |\n",
    "| <        | a < b   | True when a is smaller than b             |\n",
    "| <=       | a <= b  | True when a is smaller than or equal to b |\n",
    "| >        | a > b   | True when a is larger than b              |\n",
    "| <=       | a >= b  | True when a is larger than or equal to b  |"
   ]
  },
  {
   "cell_type": "code",
   "execution_count": null,
   "metadata": {},
   "outputs": [],
   "source": [
    "a = 10\n",
    "b = 20\n",
    "\n",
    "print(f'not a: {not a}')\n",
    "print(f'a == b: {a == b}')\n",
    "print(f'a != b: {a != b}')\n",
    "print(f'a < b: {a < b}')\n",
    "print(f'a >= b: {a >= b}')"
   ]
  },
  {
   "cell_type": "markdown",
   "metadata": {},
   "source": [
    "User in for example `if` statements: `if [condition] then ...`"
   ]
  },
  {
   "cell_type": "code",
   "execution_count": null,
   "metadata": {},
   "outputs": [],
   "source": [
    "if a <= b:\n",
    "    print(\"a is smaller than b!\")"
   ]
  },
  {
   "cell_type": "markdown",
   "metadata": {},
   "source": [
    "## Bitwise operators \n",
    "Are not boolean operators!\n",
    "\n",
    "- Bitwise values check\n",
    "\n",
    "| Operator | Example | Meaning                    |\n",
    "|----------|---------|----------------------------|\n",
    "| &        | a & b   | Bitwise AND                |\n",
    "| \\|       | a \\| b  | Bitwise OR                 |\n",
    "| ^        | a ^ b   | Bitwise XOR (exclusive OR) |\n",
    "| ~        | ~a      | Bitwise NOT                |\n",
    "| <<       | a << n  | Bitwise left shift         |\n",
    "| >>       | a >> n  | Bitwise right shift        |\n",
    "\n",
    "```\n",
    "1001      |   9\n",
    "1010 AND  |  10 AND\n",
    "--------  |  -----\n",
    "1000      |   8\n",
    "```"
   ]
  },
  {
   "cell_type": "code",
   "execution_count": null,
   "metadata": {},
   "outputs": [],
   "source": [
    "a = 9\n",
    "b = 10\n",
    "print(f\"a and b: {a and b} (not 0 so: True...)\")\n",
    "print(f\"a & b: {a & b}\")"
   ]
  },
  {
   "cell_type": "markdown",
   "metadata": {},
   "source": [
    "## Collections\n",
    "### Array / List\n",
    "- Lists are used to **store multiple items** in a **single variable**.\n",
    "- List items are **ordered**, **changeable**, and **allow duplicate values**."
   ]
  },
  {
   "cell_type": "markdown",
   "metadata": {},
   "source": []
  },
  {
   "cell_type": "code",
   "execution_count": null,
   "metadata": {},
   "outputs": [],
   "source": [
    "list = [1,2,3,5]\n",
    "print(list)\n",
    "print(f\"Value of index 2: {list[2]}\")"
   ]
  },
  {
   "cell_type": "code",
   "execution_count": null,
   "metadata": {},
   "outputs": [],
   "source": [
    "list = [\"appel\", \"peer\", \"meloen\", \"appel\"]\n",
    "print(list)"
   ]
  },
  {
   "cell_type": "code",
   "execution_count": null,
   "metadata": {},
   "outputs": [],
   "source": [
    "list = [\"appel\", True, 10, 42.24]\n",
    "print(list)"
   ]
  },
  {
   "cell_type": "code",
   "execution_count": null,
   "metadata": {},
   "outputs": [],
   "source": [
    "list = [\"appel\", \"peer\", \"meloen\", \"appel\"]\n",
    "print(list)"
   ]
  },
  {
   "cell_type": "code",
   "execution_count": null,
   "metadata": {},
   "outputs": [],
   "source": [
    "list.append(\"banaan\")\n",
    "print(list)"
   ]
  },
  {
   "cell_type": "code",
   "execution_count": null,
   "metadata": {},
   "outputs": [],
   "source": [
    "list.remove(\"peer\")\n",
    "print(list)"
   ]
  },
  {
   "cell_type": "code",
   "execution_count": null,
   "metadata": {},
   "outputs": [],
   "source": [
    "print(len(list))"
   ]
  },
  {
   "cell_type": "markdown",
   "metadata": {},
   "source": [
    "### Indexes\n",
    "- Indexes are `0` based: so `list[0]` is the `first` item in the list.\n",
    "- Indexes can be negative! `list[-1]` refers to the `last` item in the list."
   ]
  },
  {
   "cell_type": "code",
   "execution_count": null,
   "metadata": {},
   "outputs": [],
   "source": [
    "list = [\"appel\", \"peer\", \"meloen\", \"kiwi\"]\n",
    "print(list[0])\n",
    "print(list[-1])\n",
    "print(list[-2])"
   ]
  },
  {
   "cell_type": "markdown",
   "metadata": {},
   "source": [
    "### Tuple\n",
    "- Tuples are used to **store multiple items** in a **single variable**.\n",
    "- A tuple is a collection which is **ordered** and **unchangeable**."
   ]
  },
  {
   "cell_type": "code",
   "execution_count": null,
   "metadata": {},
   "outputs": [],
   "source": [
    "a = (1, \"een\")\n",
    "print(a)"
   ]
  },
  {
   "cell_type": "code",
   "execution_count": null,
   "metadata": {},
   "outputs": [],
   "source": [
    "b = (\"apple\", \"peer\", \"appel\")\n",
    "print(b)\n",
    "print(b[1])"
   ]
  },
  {
   "cell_type": "code",
   "execution_count": null,
   "metadata": {},
   "outputs": [],
   "source": [
    "# Error! Can not add or remove\n",
    "##b.append(\"test\")\n",
    "#b.remove(\"peer\")"
   ]
  },
  {
   "cell_type": "markdown",
   "metadata": {},
   "source": [
    "### Named Tuple\n",
    "More readable!\n",
    "1) add import statement to use: `from collections import namedtuple`\n",
    "2) create and assign a namedtuple: `myTupleDefinition = namedtuple('[TYPENAME]]', [COLLECTION OF VARIABLES])`\n",
    "3) create and assign a tuple with values: `myTuple = myTupleDefinition([VALUES]])`\n"
   ]
  },
  {
   "cell_type": "code",
   "execution_count": null,
   "metadata": {},
   "outputs": [],
   "source": [
    "from collections import namedtuple\n",
    "Point = namedtuple(\"Point\", [\"x\", \"y\", \"z\"])\n",
    "pt1 = Point(1.1, 5.0, 4.2)\n",
    "print(f\"x = {pt1[0]}\")\n",
    "print(f\"y = {pt1[1]}\")\n",
    "print(f\"z = {pt1[2]}\")\n",
    "print(f\"x = {pt1.x}\")\n",
    "print(f\"y = {pt1.y}\")\n",
    "print(f\"z = {pt1.z}\")\n"
   ]
  },
  {
   "cell_type": "markdown",
   "metadata": {},
   "source": [
    "### Tuple unpacking\n",
    "\n",
    "Assign parameters to the values from a tuple:\n",
    "`a, b, c = myTuple`"
   ]
  },
  {
   "cell_type": "code",
   "execution_count": null,
   "metadata": {},
   "outputs": [],
   "source": [
    "myTuple = (3, True, \"Harry\")\n",
    "print(myTuple)\n",
    "\n",
    "# tuple unpacking is also possible\n",
    "id, isSleeping, name = myTuple\n",
    "\n",
    "print(id)\n",
    "print(isSleeping)\n",
    "print(name)"
   ]
  },
  {
   "cell_type": "markdown",
   "metadata": {},
   "source": [
    "## Set\n",
    "- Sets are used to store **multiple items** in a **single variable**.\n",
    "- A set is a collection which is **unordered**, **unchangeable***, and **unindexed**.\n",
    "- Duplicated items are removed.\n",
    "\n",
    "*) **Note**: Set items are unchangeable, but you **can remove items and add new items**."
   ]
  },
  {
   "cell_type": "code",
   "execution_count": null,
   "metadata": {},
   "outputs": [],
   "source": [
    "mySet = {\"appel\", \"banaan\", \"peer\"}\n",
    "print(mySet)"
   ]
  },
  {
   "cell_type": "code",
   "execution_count": null,
   "metadata": {},
   "outputs": [],
   "source": [
    "mySet.add(\"meloen\")\n",
    "print(mySet)"
   ]
  },
  {
   "cell_type": "code",
   "execution_count": null,
   "metadata": {},
   "outputs": [],
   "source": [
    "mySet.remove(\"banaan\")\n",
    "print(mySet)"
   ]
  },
  {
   "cell_type": "code",
   "execution_count": null,
   "metadata": {},
   "outputs": [],
   "source": [
    "# Error: can not index a set:\n",
    "#print(mySet[0])"
   ]
  },
  {
   "cell_type": "markdown",
   "metadata": {},
   "source": [
    "### Show all items in a set"
   ]
  },
  {
   "cell_type": "code",
   "execution_count": null,
   "metadata": {},
   "outputs": [],
   "source": [
    "mySet = {\"appel\", \"banaan\", \"peer\", \"appel\"}\n",
    "\n",
    "### Loop over mySet\n",
    "for x in mySet:\n",
    "  print(x)"
   ]
  },
  {
   "cell_type": "markdown",
   "metadata": {},
   "source": [
    "### Union / Update\n",
    "- `Union`: returns a new set\n",
    "- `Update`: updates the existing set"
   ]
  },
  {
   "cell_type": "code",
   "execution_count": null,
   "metadata": {},
   "outputs": [],
   "source": [
    "set1 = {\"appel\", \"banaan\", \"peer\"}\n",
    "set2 = {\"aap\", \"noot\", \"mies\"}\n",
    "set3 = set1.union(set2)\n",
    "print(set3)"
   ]
  },
  {
   "cell_type": "code",
   "execution_count": null,
   "metadata": {},
   "outputs": [],
   "source": [
    "set1 = {\"appel\", \"banaan\", \"peer\"}\n",
    "set2 = {\"aap\", \"noot\", \"mies\"}\n",
    "set1.update(set2)\n",
    "print(set1)"
   ]
  },
  {
   "cell_type": "markdown",
   "metadata": {},
   "source": [
    "## Dictionary\n",
    "- Dictionaries are used to store data values in **key:value** pairs.\n",
    "- A dictionary is a collection which is **ordered***, **changeable** and **do not allow duplicates**."
   ]
  },
  {
   "cell_type": "code",
   "execution_count": null,
   "metadata": {},
   "outputs": [],
   "source": [
    "d = {\n",
    "    \"one\" : \"Het getal 1\",\n",
    "    \"two\" : \"Het getal 2\",\n",
    "    \"three\" : \"En dit is getal 3\",\n",
    "}\n",
    "print(d)\n",
    "print(d[\"three\"])"
   ]
  },
  {
   "cell_type": "code",
   "execution_count": null,
   "metadata": {},
   "outputs": [],
   "source": [
    "print(d[\"three\"])"
   ]
  },
  {
   "cell_type": "code",
   "execution_count": null,
   "metadata": {},
   "outputs": [],
   "source": [
    "d = {\n",
    "    \"getal\" : 42,\n",
    "    \"boolean\" : True,\n",
    "    \"text\" : \"Een stuk tekst\",\n",
    "    \"list\" : [1,2,3,4,5],\n",
    "    \"dictionary\":{\n",
    "       \"one\" : \"Het getal 1\",\n",
    "       \"two\" : \"Het getal 2\",\n",
    "       \"three\" : \"En dit is getal 3\",\n",
    "    }\n",
    "}\n",
    "print(d)"
   ]
  },
  {
   "cell_type": "code",
   "execution_count": null,
   "metadata": {},
   "outputs": [],
   "source": [
    "print(d[\"boolean\"])"
   ]
  },
  {
   "cell_type": "code",
   "execution_count": null,
   "metadata": {},
   "outputs": [],
   "source": [
    "print(d[\"dictionary\"])"
   ]
  },
  {
   "cell_type": "code",
   "execution_count": null,
   "metadata": {},
   "outputs": [],
   "source": [
    "print(d[\"dictionary\"][\"two\"])"
   ]
  },
  {
   "cell_type": "markdown",
   "metadata": {},
   "source": [
    "## if... then... else...\n",
    "```python\n",
    "if [conditie A waar]:\n",
    "    # Indien conditie A waar is, voer deze code uit\n",
    "elif [conditie B waar]:\n",
    "    # Indien conditie B waar is, voer deze code uit\n",
    "elif [conditie C waar]:\n",
    "    # Indien conditie C waar is, voer deze code uit\n",
    "else\n",
    "    # En anders voer deze code uit\n",
    "```"
   ]
  },
  {
   "cell_type": "code",
   "execution_count": null,
   "metadata": {},
   "outputs": [],
   "source": [
    "a = 42\n",
    "if a == 42:\n",
    "    print(\"A = 42\")"
   ]
  },
  {
   "cell_type": "code",
   "execution_count": null,
   "metadata": {},
   "outputs": [],
   "source": [
    "a = 41\n",
    "if a == 42:\n",
    "    print(\"A = 42\")\n",
    "else:\n",
    "    print(\"A is geen 42\")"
   ]
  },
  {
   "cell_type": "code",
   "execution_count": null,
   "metadata": {},
   "outputs": [],
   "source": [
    "a = 41\n",
    "if a == 42:\n",
    "    print(\"A = 42\")\n",
    "elif a == 41:\n",
    "    print(\"A = 41\")\n",
    "else:\n",
    "    print(\"A is geen 41 en geen 42\")"
   ]
  },
  {
   "cell_type": "markdown",
   "metadata": {},
   "source": [
    "Let op dat de `elif` en `else` niet meer worden uitgevoerd wanneer de eerste `if` waar is!"
   ]
  },
  {
   "cell_type": "code",
   "execution_count": null,
   "metadata": {},
   "outputs": [],
   "source": [
    "a = 42\n",
    "\n",
    "if a > 10:\n",
    "    print(\"A is groter dan 10\")\n",
    "elif a > 20:\n",
    "    print(\"A is groter dan 20\")\n",
    "elif a > 30:\n",
    "    print(\"A is groter dan 20\")\n",
    "else:\n",
    "    print(\"A kleiner of gelijk aan 10\")"
   ]
  },
  {
   "cell_type": "markdown",
   "metadata": {},
   "source": [
    "## While\n",
    "```python\n",
    "while [conditie waar]:\n",
    "    # voer net zolang uit tot de conditie niet meer waar is...\n",
    "```"
   ]
  },
  {
   "cell_type": "code",
   "execution_count": null,
   "metadata": {},
   "outputs": [],
   "source": [
    "a = 0\n",
    "while a < 4:\n",
    "    print(a)\n",
    "    a = a + 1"
   ]
  },
  {
   "cell_type": "markdown",
   "metadata": {},
   "source": [
    "Let op infinite loops! \n",
    "\n",
    "```python\n",
    "a = 0\n",
    "while a < 4:\n",
    "    print(a)\n",
    "```"
   ]
  },
  {
   "cell_type": "markdown",
   "metadata": {},
   "source": [
    "## For statements\n",
    "\n",
    "'Loop' over collections."
   ]
  },
  {
   "cell_type": "markdown",
   "metadata": {},
   "source": [
    "### range(...)"
   ]
  },
  {
   "cell_type": "code",
   "execution_count": null,
   "metadata": {},
   "outputs": [],
   "source": [
    "for i in range(4):\n",
    "    print(i)"
   ]
  },
  {
   "cell_type": "markdown",
   "metadata": {},
   "source": [
    "### len(...)"
   ]
  },
  {
   "cell_type": "code",
   "execution_count": null,
   "metadata": {},
   "outputs": [],
   "source": [
    "a = [\"p\", \"y\", \"t\", \"h\", \"o\", \"n\"]\n",
    "aantalItems = len(a)\n",
    "for i in range(aantalItems):\n",
    "    print(f\"Index {i} heeft value {a[i]}\")"
   ]
  },
  {
   "cell_type": "markdown",
   "metadata": {},
   "source": [
    "### break"
   ]
  },
  {
   "cell_type": "code",
   "execution_count": null,
   "metadata": {},
   "outputs": [],
   "source": [
    "for i in range(aantalItems):\n",
    "    if (a[i] == \"t\"):\n",
    "        break\n",
    "    print(f\"Index {i} heeft value {a[i]}\")"
   ]
  },
  {
   "cell_type": "markdown",
   "metadata": {},
   "source": [
    "### continue"
   ]
  },
  {
   "cell_type": "code",
   "execution_count": null,
   "metadata": {},
   "outputs": [],
   "source": [
    "for i in range(aantalItems):\n",
    "    if (a[i] == \"t\"):\n",
    "        continue\n",
    "    print(f\"Index {i} heeft value {a[i]}\")"
   ]
  },
  {
   "cell_type": "markdown",
   "metadata": {},
   "source": [
    "### pass"
   ]
  },
  {
   "cell_type": "code",
   "execution_count": null,
   "metadata": {},
   "outputs": [],
   "source": [
    "for i in range(aantalItems):\n",
    "    if (a[i] == \"t\"):\n",
    "        pass\n",
    "    else:\n",
    "        print(f\"Index {i} heeft value {a[i]}\")\n",
    "        "
   ]
  },
  {
   "cell_type": "markdown",
   "metadata": {},
   "source": [
    "## Enumerate\n",
    "The `enumerate(...)` function returns simultaneously a reference to the `index` of an item in a collection and a reference to its `value`."
   ]
  },
  {
   "cell_type": "code",
   "execution_count": null,
   "metadata": {},
   "outputs": [],
   "source": [
    "a = [\"p\", \"y\", \"t\", \"h\", \"o\", \"n\"]\n",
    "i = 0\n",
    "for item in a:\n",
    "    print(f\"Item {item} at index {i}\")\n",
    "    i = i + 1"
   ]
  },
  {
   "cell_type": "code",
   "execution_count": null,
   "metadata": {},
   "outputs": [],
   "source": [
    "a = [\"p\", \"y\", \"t\", \"h\", \"o\", \"n\"]\n",
    "for i, item in enumerate(a):\n",
    "    print(f\"Item {item} at index {i}\")\n",
    "    "
   ]
  },
  {
   "cell_type": "markdown",
   "metadata": {},
   "source": [
    "## Zip\n",
    "The `zip()` function returns a `zip` object, which is an `iterator of tuples` where the first item in each passed iterator is paired together, and then the second item in each passed iterator are paired together etc."
   ]
  },
  {
   "cell_type": "code",
   "execution_count": null,
   "metadata": {},
   "outputs": [],
   "source": [
    "a = (1,2,3)\n",
    "b = (\"a\",\"b\",\"c\")\n",
    "z = zip(a,b)\n",
    "print(tuple(z))"
   ]
  },
  {
   "cell_type": "markdown",
   "metadata": {},
   "source": [
    "If the passed iterators have different lengths, the iterator with the least items decides the length of the new iterator."
   ]
  },
  {
   "cell_type": "code",
   "execution_count": null,
   "metadata": {},
   "outputs": [],
   "source": [
    "a = (1,2,3)\n",
    "b = (\"a\",\"b\",\"c\",\"d\")\n",
    "z = zip(a,b)\n",
    "print(set(z))"
   ]
  },
  {
   "cell_type": "markdown",
   "metadata": {},
   "source": [
    "## Functions\n",
    "- Functions are a set of instruction that can be recalled in the body\n",
    "of the script as many times as needed\n",
    "- The scripts becomes easier to maintain\n",
    "- A function can recall itself in its definition (recursion)\n",
    "- Parameters (or Arguments) are optional\n",
    "- Defining function parameters, calling function arguments\n",
    "- The return statement is optional"
   ]
  },
  {
   "cell_type": "code",
   "execution_count": null,
   "metadata": {},
   "outputs": [],
   "source": [
    "def add(a, b):\n",
    "    return (a+b)\n",
    "\n",
    "print(add(3,6))"
   ]
  },
  {
   "cell_type": "markdown",
   "metadata": {},
   "source": [
    "### Arbitrary Arguments, *args\n",
    "If you do not know how many arguments that will be passed into your function, add a `*` before the parameter name in the function definition.\n",
    "\n",
    "This way the function will receive a `tuple of arguments`, and can access the items accordingly.\n",
    "\n",
    "`Arbitrary Arguments` are often shortened to `*args`."
   ]
  },
  {
   "cell_type": "code",
   "execution_count": null,
   "metadata": {},
   "outputs": [],
   "source": [
    "def valueAtIndex2(*values):\n",
    "  print(\"Value at index 2 = \" + values[2])\n",
    "\n",
    "valueAtIndex2(\"appel\", \"peer\", \"kiwi\")"
   ]
  },
  {
   "cell_type": "markdown",
   "metadata": {},
   "source": [
    "### Keyword Arguments\n",
    "You can also send arguments with the key = value syntax, improving readability... Order does not matter!"
   ]
  },
  {
   "cell_type": "code",
   "execution_count": null,
   "metadata": {},
   "outputs": [],
   "source": [
    "def printFruit3(fruit1, fruit2, fruit3):\n",
    "  print(\"Fruit3 = \" + fruit3)\n",
    "\n",
    "printFruit3(fruit1 = \"appel\", fruit2 = \"peer\", fruit3 = \"kiwi\")\n",
    "printFruit3(fruit3 = \"kiwi\", fruit2 = \"peer\", fruit1 = \"appel\")"
   ]
  },
  {
   "cell_type": "markdown",
   "metadata": {},
   "source": [
    "### Arbitrary Keyword Arguments, **kwargs\n",
    "If you do not know how many keyword arguments that will be passed into your function, add two asterisk: `**` before the parameter name in the function definition.\n",
    "\n",
    "Arbitrary Kword Arguments are often shortened to `**kwargs`."
   ]
  },
  {
   "cell_type": "code",
   "execution_count": null,
   "metadata": {},
   "outputs": [],
   "source": [
    "def printItemB(**items):\n",
    "  print(\"Item B = \" + items[\"b\"])\n",
    "\n",
    "printItemB(a = \"appel\", b = \"peer\", c = \"kiwi\")\n",
    "printItemB(a = \"kiwi\", b = \"mango\", c = \"appel\", d = \"mango\")\n"
   ]
  },
  {
   "cell_type": "markdown",
   "metadata": {},
   "source": [
    "### Default Parameter Value\n",
    "Use a default value when no argument is provided."
   ]
  },
  {
   "cell_type": "code",
   "execution_count": null,
   "metadata": {},
   "outputs": [],
   "source": [
    "def whatCountry(country = \"Norway\"):\n",
    "  print(\"I am from \" + country)\n",
    "\n",
    "whatCountry(\"Sweden\")\n",
    "whatCountry()"
   ]
  },
  {
   "cell_type": "markdown",
   "metadata": {},
   "source": [
    "## Python Variable References\n",
    "\n",
    "In Python variables are simply names referring to objects in the memory."
   ]
  },
  {
   "cell_type": "code",
   "execution_count": null,
   "metadata": {},
   "outputs": [],
   "source": [
    "x = [ ]\n",
    "y = x\n",
    "y.append(10)\n",
    "print ('X = ' , x)\n",
    "print ('Y = ', y)"
   ]
  },
  {
   "cell_type": "markdown",
   "metadata": {},
   "source": [
    "### Pass by reference / pass by value\n",
    "\n",
    "More info see [Pass by reference vs value in Python](https://www.geeksforgeeks.org/pass-by-reference-vs-value-in-python/?ref=lbp)"
   ]
  },
  {
   "cell_type": "code",
   "execution_count": null,
   "metadata": {},
   "outputs": [],
   "source": [
    "def set_list(list):\n",
    "    list = [\"A\", \"B\", \"C\"]\n",
    "    return list\n",
    " \n",
    "def add(list):\n",
    "    list.append(\"D\")\n",
    "    return list\n",
    " \n",
    "myList = [\"E\"]\n",
    " \n",
    "print(set_list(myList))\n",
    "print(add(myList))"
   ]
  },
  {
   "cell_type": "markdown",
   "metadata": {},
   "source": [
    "### Inmutable\n",
    "In simple words, an immutable object can’t be changed after it is created.\n",
    "\n",
    "- Numbers (Integer, Rational, Float, Decimal, Complex & Booleans)\n",
    "- Strings\n",
    "- Tuples\n",
    "- Frozen Sets\n",
    "\n",
    "This given an error:\n",
    "```python\n",
    "message = \"Welcome to GeeksforGeeks\"\n",
    "message[0] = 'p'\n",
    "print(message)\n",
    "```"
   ]
  },
  {
   "cell_type": "markdown",
   "metadata": {},
   "source": [
    "### Mutable\n",
    "- Lists\n",
    "- Sets\n",
    "- Dictionaries"
   ]
  },
  {
   "cell_type": "code",
   "execution_count": null,
   "metadata": {},
   "outputs": [],
   "source": [
    "color = [\"red\", \"blue\", \"green\"]\n",
    "print(color)\n",
    "  \n",
    "color[0] = \"pink\"\n",
    "color[-1] = \"orange\"\n",
    "print(color)"
   ]
  },
  {
   "cell_type": "markdown",
   "metadata": {},
   "source": [
    "## Lambda functions\n",
    "- A lambda function is a small anonymous function.\n",
    "- A lambda function can take any number of arguments, but can only have one expression."
   ]
  },
  {
   "cell_type": "code",
   "execution_count": null,
   "metadata": {},
   "outputs": [],
   "source": [
    "def function(a):\n",
    "    return a + 10\n",
    "\n",
    "print(function(5))"
   ]
  },
  {
   "cell_type": "markdown",
   "metadata": {},
   "source": [
    "`x = lambda [PARAMETER] : [LOGIC]`\n",
    "\n",
    "A function without a name: an anonymous function."
   ]
  },
  {
   "cell_type": "code",
   "execution_count": null,
   "metadata": {},
   "outputs": [],
   "source": [
    "x = lambda a : a + 10\n",
    "print(x(5))"
   ]
  },
  {
   "cell_type": "code",
   "execution_count": null,
   "metadata": {},
   "outputs": [],
   "source": [
    "x = lambda a, b, c : a + b + c\n",
    "print(x(5, 6, 2))"
   ]
  },
  {
   "cell_type": "markdown",
   "metadata": {},
   "source": [
    "Why? Readability or to modify the logic inside a function.\n",
    "\n",
    "You can create a object / variable that is in essence a function!"
   ]
  },
  {
   "cell_type": "code",
   "execution_count": null,
   "metadata": {},
   "outputs": [],
   "source": [
    "def myfunc(n):\n",
    "  return lambda a : a * n\n",
    "\n",
    "mydoubler = myfunc(2) # returns a function where value is always *2\n",
    "mytripler = myfunc(3) # returns a function where value is always *3\n",
    "\n",
    "print(mydoubler(11))\n",
    "print(mytripler(11))"
   ]
  },
  {
   "cell_type": "markdown",
   "metadata": {},
   "source": [
    "## Sorting\n",
    "`collection = sorted(collection, key = Function, reverse = True)`"
   ]
  },
  {
   "cell_type": "code",
   "execution_count": null,
   "metadata": {},
   "outputs": [],
   "source": [
    "a = [\"p\", \"y\", \"t\", \"h\", \"o\", \"n\"]\n",
    "\n",
    "sortedList = sorted(a, key = lambda x : x) # return x (the value) as item to sort on\n",
    "print(sortedList)"
   ]
  },
  {
   "cell_type": "code",
   "execution_count": null,
   "metadata": {},
   "outputs": [],
   "source": [
    "users = [{\n",
    "        \"id\":4,\n",
    "        \"name\":\"Joop\",\n",
    "    },\n",
    "    {\n",
    "        \"id\":1,\n",
    "        \"name\":\"Klaas\",\n",
    "    },\n",
    "    {\n",
    "        \"id\":9,\n",
    "        \"name\":\"Ad\",\n",
    "    }]\n",
    "\n",
    "sortedUsers = sorted(users, key = lambda x : x[\"id\"]) # sort on the value of x[\"id\"]\n",
    "print(sortedUsers)"
   ]
  },
  {
   "cell_type": "code",
   "execution_count": null,
   "metadata": {},
   "outputs": [],
   "source": [
    "sortedList = sorted(users, key = lambda user : user[\"name\"]) # sort on the value of x[\"name\"]\n",
    "print(sortedList)"
   ]
  },
  {
   "cell_type": "code",
   "execution_count": null,
   "metadata": {},
   "outputs": [],
   "source": [
    "sortedList = sorted(users, key = lambda user : user[\"name\"], reverse=True) # sort reversed on the value of x[\"name\"]\n",
    "print(sortedList)"
   ]
  },
  {
   "cell_type": "markdown",
   "metadata": {},
   "source": [
    "## Comprehensions\n",
    "\n",
    "- Concise syntax to apply filters and functions on a collection of items\n",
    "- It can return:\n",
    "    - List []\n",
    "    - Tuple ()\n",
    "    - Dictionary {}\n",
    "- Very useful in Revit API filtering / sorting"
   ]
  },
  {
   "cell_type": "code",
   "execution_count": null,
   "metadata": {},
   "outputs": [],
   "source": [
    "fruits = [\"apple\", \"banana\", \"cherry\", \"kiwi\", \"mango\"]\n",
    "newList = []\n",
    "\n",
    "# Only items containing an 'a'\n",
    "for x in fruits:\n",
    "  if \"a\" in x:\n",
    "    newList.append(x)\n",
    "\n",
    "print(newList)"
   ]
  },
  {
   "cell_type": "code",
   "execution_count": null,
   "metadata": {},
   "outputs": [],
   "source": [
    "newList = [x for x in fruits if \"a\" in x]\n",
    "print(newList)"
   ]
  },
  {
   "cell_type": "markdown",
   "metadata": {},
   "source": [
    "`[x for x in fruits if \"a\" in x]` ==> `[return iteration condition]`\n",
    "Breakdown:\n",
    "- iteration: `for x in fruits`\n",
    "- condition: `if \"a\" in x`\n",
    "- return: `x`\n",
    "Don't forget the brackets `[` and `]`!"
   ]
  },
  {
   "cell_type": "code",
   "execution_count": null,
   "metadata": {},
   "outputs": [],
   "source": [
    "list = [0,1,2,3,4,5,6]\n",
    "x = [x * 2 for x in list if x > 3]\n",
    "print(x)"
   ]
  },
  {
   "cell_type": "markdown",
   "metadata": {},
   "source": [
    "## Object Oriented (the very basics)\n",
    "Based on `Classes` (also called `Types`) and `Objects` (also called `Instances`).\n",
    "- Encapsulation: access modifier (public, protected, private)\n",
    "- Inheritance: parent class and descendants, abstract classes\n",
    "- Polymorphism: code can be called on objects regardless they belong to parent or descendants classes\n",
    "- Open recursion: object methods can call other methods on the same object including themselves (self)\n",
    "\n",
    "Example of a class:\n",
    "`Person`\n",
    "- Property: `Title`\n",
    "- Property: `Name`\n",
    "- Function: `GetTitleAndName()`\n",
    "\n",
    "A Class can be seen as a Template or BluePrint."
   ]
  },
  {
   "cell_type": "code",
   "execution_count": null,
   "metadata": {},
   "outputs": [],
   "source": [
    "class Person:\n",
    "    title = \"ing.\"\n",
    "    name = \"Harry\"\n",
    "\n",
    "    def GetTitleAndName(self): #note the self, referencing 'this' Person, so with title and name set to ing. Harry!\n",
    "        return f\"{self.title} {self.name}\"\n",
    "\n",
    "p = Person()\n",
    "print(p.GetTitleAndName())"
   ]
  },
  {
   "cell_type": "markdown",
   "metadata": {},
   "source": [
    "### Define a contructor\n",
    "To set initial values:\n",
    "```python\n",
    "def __init__(self, title, name):\n",
    "    _title = title\n",
    "    _name = name\n",
    "```\n",
    "\n",
    "the `__init__` is a special build in function that is always called when creating a new instance of a class.\n",
    "\n",
    "The double underscores (`__`) are also called `dunder`!"
   ]
  },
  {
   "cell_type": "code",
   "execution_count": null,
   "metadata": {},
   "outputs": [],
   "source": [
    "class Person:\n",
    "    _title = None\n",
    "    _name = None\n",
    "\n",
    "    def __init__(self, title, name):\n",
    "        self._title = title\n",
    "        self._name = name\n",
    "\n",
    "    def GetTitleAndName(self): #note the self, referencing 'this' Person, so with title and name set to ing. Harry!\n",
    "        return f\"{self._title} {self._name}\"\n",
    "\n",
    "p1 = Person(\"Eur.Erg.\", \"Piet\")\n",
    "p2 = Person(\"ir.\", \"Marry\")\n",
    "p3 = Person(\"ing.\", \"Bella\")\n",
    "print(p1.GetTitleAndName())\n",
    "print(p2.GetTitleAndName())\n",
    "print(p3.GetTitleAndName())"
   ]
  },
  {
   "cell_type": "markdown",
   "metadata": {},
   "source": [
    "There are many default (`dunder`) functions in Python that Classes / Objects have. You can list them with `dir([OBJECT])`."
   ]
  },
  {
   "cell_type": "markdown",
   "metadata": {},
   "source": []
  },
  {
   "cell_type": "code",
   "execution_count": null,
   "metadata": {},
   "outputs": [],
   "source": [
    "dir(p)"
   ]
  },
  {
   "cell_type": "code",
   "execution_count": null,
   "metadata": {},
   "outputs": [],
   "source": [
    "# Get hash of Person\n",
    "print(p.__hash__())"
   ]
  },
  {
   "cell_type": "markdown",
   "metadata": {},
   "source": [
    "## Override functions\n",
    "`__str__` shows the object as a string."
   ]
  },
  {
   "cell_type": "code",
   "execution_count": null,
   "metadata": {},
   "outputs": [],
   "source": [
    "class Person:\n",
    "    _title = None\n",
    "    _name = None\n",
    "\n",
    "    def __init__(self, title, name):\n",
    "        self._title = title\n",
    "        self._name = name\n",
    "\n",
    "    def GetTitleAndName(self): #note the self, referencing 'this' Person, so with title and name set to ing. Harry!\n",
    "        return f\"{self._title} {self._name}\"\n",
    "\n",
    "p = Person(\"Eur.Erg.\", \"Piet\")\n",
    "print(p)"
   ]
  },
  {
   "cell_type": "code",
   "execution_count": null,
   "metadata": {},
   "outputs": [],
   "source": [
    "class Person:\n",
    "    _title = None\n",
    "    _name = None\n",
    "\n",
    "    def __init__(self, title, name):\n",
    "        self._title = title\n",
    "        self._name = name\n",
    "\n",
    "    def __str__(self):\n",
    "        return f\"{self._name} has the title of '{self._title}'...\"\n",
    "\n",
    "    def GetTitleAndName(self): #note the self, referencing 'this' Person, so with title and name set to ing. Harry!\n",
    "        return f\"{self._title} {self._name}\"\n",
    "\n",
    "p = Person(\"Eur.Erg.\", \"Piet\")\n",
    "print(p)"
   ]
  },
  {
   "cell_type": "code",
   "execution_count": null,
   "metadata": {},
   "outputs": [],
   "source": [
    "dir(int)"
   ]
  },
  {
   "cell_type": "code",
   "execution_count": null,
   "metadata": {},
   "outputs": [],
   "source": [
    "help(int.__hash__)"
   ]
  },
  {
   "cell_type": "markdown",
   "metadata": {},
   "source": [
    "### Put help on your functions and classes\n",
    "\n",
    "Add documentation with ```TEXT``` (can be multilines)\n",
    "\n",
    "Use: help(...) to get help on a class or function."
   ]
  },
  {
   "cell_type": "code",
   "execution_count": null,
   "metadata": {},
   "outputs": [],
   "source": [
    "def myFunction(a,b):\n",
    "    '''Adds a and b and returns the result'''\n",
    "    return a+b\n",
    "\n",
    "# dir(myFunction) # --> returns __doc__\n",
    "help(myFunction)"
   ]
  },
  {
   "cell_type": "code",
   "execution_count": null,
   "metadata": {},
   "outputs": [],
   "source": [
    "class student: \n",
    "    def __init__(self): \n",
    "        '''Initialize a student'''\n",
    "  \n",
    "    def print_student(self): \n",
    "        '''Returns the student description\n",
    "        in a nice format.'''\n",
    "        print('student description') \n",
    "\n",
    "help(student)\n",
    "#help(student.print_student)"
   ]
  }
 ],
 "metadata": {
  "kernelspec": {
   "display_name": "Python 3.10.1 64-bit",
   "language": "python",
   "name": "python3"
  },
  "language_info": {
   "codemirror_mode": {
    "name": "ipython",
    "version": 3
   },
   "file_extension": ".py",
   "mimetype": "text/x-python",
   "name": "python",
   "nbconvert_exporter": "python",
   "pygments_lexer": "ipython3",
   "version": "3.10.1"
  },
  "orig_nbformat": 4,
  "vscode": {
   "interpreter": {
    "hash": "aee8b7b246df8f9039afb4144a1f6fd8d2ca17a180786b69acc140d282b71a49"
   }
  }
 },
 "nbformat": 4,
 "nbformat_minor": 2
}
